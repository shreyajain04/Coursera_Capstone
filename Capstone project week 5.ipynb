{
 "cells": [
  {
   "cell_type": "code",
   "execution_count": null,
   "id": "0ec04cbc-0f04-4ee2-807a-ca63fb21b79c",
   "metadata": {},
   "outputs": [],
   "source": []
  },
  {
   "cell_type": "code",
   "execution_count": null,
   "id": "e3f4c29d-233f-4d87-89d4-66a541b88817",
   "metadata": {},
   "outputs": [],
   "source": []
  },
  {
   "cell_type": "code",
   "execution_count": 4,
   "id": "3a89d401-63de-4c28-b921-0ad21bb5a795",
   "metadata": {},
   "outputs": [
    {
     "name": "stdout",
     "output_type": "stream",
     "text": [
      "Requirement already satisfied: geocoder in /home/jupyterlab/conda/envs/python/lib/python3.6/site-packages (1.38.1)\n",
      "Requirement already satisfied: click in /home/jupyterlab/conda/envs/python/lib/python3.6/site-packages (from geocoder) (8.0.0)\n",
      "Requirement already satisfied: requests in /home/jupyterlab/conda/envs/python/lib/python3.6/site-packages (from geocoder) (2.25.1)\n",
      "Requirement already satisfied: ratelim in /home/jupyterlab/conda/envs/python/lib/python3.6/site-packages (from geocoder) (0.1.6)\n",
      "Requirement already satisfied: six in /home/jupyterlab/conda/envs/python/lib/python3.6/site-packages (from geocoder) (1.16.0)\n",
      "Requirement already satisfied: future in /home/jupyterlab/conda/envs/python/lib/python3.6/site-packages (from geocoder) (0.18.2)\n",
      "Requirement already satisfied: idna<3,>=2.5 in /home/jupyterlab/conda/envs/python/lib/python3.6/site-packages (from requests->geocoder) (2.10)\n",
      "Requirement already satisfied: urllib3<1.27,>=1.21.1 in /home/jupyterlab/conda/envs/python/lib/python3.6/site-packages (from requests->geocoder) (1.26.4)\n",
      "Requirement already satisfied: certifi>=2017.4.17 in /home/jupyterlab/conda/envs/python/lib/python3.6/site-packages (from requests->geocoder) (2020.12.5)\n",
      "Requirement already satisfied: chardet<5,>=3.0.2 in /home/jupyterlab/conda/envs/python/lib/python3.6/site-packages (from requests->geocoder) (4.0.0)\n",
      "Requirement already satisfied: decorator in /home/jupyterlab/conda/envs/python/lib/python3.6/site-packages (from ratelim->geocoder) (4.4.2)\n",
      "Requirement already satisfied: folium in /home/jupyterlab/conda/envs/python/lib/python3.6/site-packages (0.5.0)\n",
      "Requirement already satisfied: requests in /home/jupyterlab/conda/envs/python/lib/python3.6/site-packages (from folium) (2.25.1)\n",
      "Requirement already satisfied: six in /home/jupyterlab/conda/envs/python/lib/python3.6/site-packages (from folium) (1.16.0)\n",
      "Requirement already satisfied: branca in /home/jupyterlab/conda/envs/python/lib/python3.6/site-packages (from folium) (0.4.2)\n",
      "Requirement already satisfied: jinja2 in /home/jupyterlab/conda/envs/python/lib/python3.6/site-packages (from folium) (3.0.0)\n",
      "Requirement already satisfied: idna<3,>=2.5 in /home/jupyterlab/conda/envs/python/lib/python3.6/site-packages (from requests->folium) (2.10)\n",
      "Requirement already satisfied: urllib3<1.27,>=1.21.1 in /home/jupyterlab/conda/envs/python/lib/python3.6/site-packages (from requests->folium) (1.26.4)\n",
      "Requirement already satisfied: certifi>=2017.4.17 in /home/jupyterlab/conda/envs/python/lib/python3.6/site-packages (from requests->folium) (2020.12.5)\n",
      "Requirement already satisfied: chardet<5,>=3.0.2 in /home/jupyterlab/conda/envs/python/lib/python3.6/site-packages (from requests->folium) (4.0.0)\n",
      "Requirement already satisfied: MarkupSafe>=2.0.0rc2 in /home/jupyterlab/conda/envs/python/lib/python3.6/site-packages (from jinja2->folium) (2.0.0)\n",
      "Requirement already satisfied: geopy in /home/jupyterlab/conda/envs/python/lib/python3.6/site-packages (2.1.0)\n",
      "Requirement already satisfied: geographiclib<2,>=1.49 in /home/jupyterlab/conda/envs/python/lib/python3.6/site-packages (from geopy) (1.50)\n",
      "Collecting bs4\n",
      "  Downloading https://files.pythonhosted.org/packages/10/ed/7e8b97591f6f456174139ec089c769f89a94a1a4025fe967691de971f314/bs4-0.0.1.tar.gz\n",
      "Collecting beautifulsoup4 (from bs4)\n",
      "\u001b[?25l  Downloading https://files.pythonhosted.org/packages/d1/41/e6495bd7d3781cee623ce23ea6ac73282a373088fcd0ddc809a047b18eae/beautifulsoup4-4.9.3-py3-none-any.whl (115kB)\n",
      "\u001b[K     |████████████████████████████████| 122kB 39.6MB/s eta 0:00:01\n",
      "\u001b[?25hCollecting soupsieve>1.2; python_version >= \"3.0\" (from beautifulsoup4->bs4)\n",
      "  Downloading https://files.pythonhosted.org/packages/36/69/d82d04022f02733bf9a72bc3b96332d360c0c5307096d76f6bb7489f7e57/soupsieve-2.2.1-py3-none-any.whl\n",
      "Building wheels for collected packages: bs4\n",
      "  Building wheel for bs4 (setup.py) ... \u001b[?25ldone\n",
      "\u001b[?25h  Stored in directory: /home/jupyterlab/.cache/pip/wheels/a0/b0/b2/4f80b9456b87abedbc0bf2d52235414c3467d8889be38dd472\n",
      "Successfully built bs4\n",
      "Installing collected packages: soupsieve, beautifulsoup4, bs4\n",
      "Successfully installed beautifulsoup4-4.9.3 bs4-0.0.1 soupsieve-2.2.1\n"
     ]
    }
   ],
   "source": [
    "!pip install geocoder\n",
    "!pip install folium\n",
    "!pip install geopy\n",
    "!pip install bs4url = \"https://en.wikipedia.org/wiki/List_of_postal_codes_of_Canada:_M\"\n",
    "extracting_data = requests.get(url).text\n",
    "wiki_data = BeautifulSoup(extracting_data, 'lxml')"
   ]
  },
  {
   "cell_type": "code",
   "execution_count": null,
   "id": "6c060774-72f1-414e-81a5-dfa9b3627a5b",
   "metadata": {},
   "outputs": [],
   "source": []
  },
  {
   "cell_type": "code",
   "execution_count": 8,
   "id": "9f9f201a-1125-42f1-85b9-262c7bff0e00",
   "metadata": {},
   "outputs": [
    {
     "name": "stdout",
     "output_type": "stream",
     "text": [
      "All Required Libraries Imported!\n"
     ]
    }
   ],
   "source": [
    "import pandas as pd\n",
    "import requests\n",
    "import numpy as np\n",
    "\n",
    "import geocoder\n",
    "import folium\n",
    "import requests \n",
    "import matplotlib.cm as cm\n",
    "import matplotlib.colors as colors\n",
    "import json\n",
    "import xml\n",
    "import matplotlib.pyplot as plt\n",
    "%matplotlib inline\n",
    "import warnings\n",
    "warnings.filterwarnings(\"ignore\")\n",
    "\n",
    "from pandas.io.json import json_normalize \n",
    "from sklearn.cluster import KMeans\n",
    "from geopy.geocoders import Nominatim \n",
    "from bs4 import BeautifulSoup\n",
    "\n",
    "pd.set_option('display.max_columns', None)\n",
    "pd.set_option('display.max_rows', None)\n",
    "\n",
    "print(\"All Required Libraries Imported!\")"
   ]
  },
  {
   "cell_type": "code",
   "execution_count": null,
   "id": "4d6dd5ad-6903-4004-aa45-fb1c4737a974",
   "metadata": {},
   "outputs": [],
   "source": []
  },
  {
   "cell_type": "code",
   "execution_count": null,
   "id": "1f9a72a0-36cf-4569-8608-bef1cfed432b",
   "metadata": {},
   "outputs": [],
   "source": []
  },
  {
   "cell_type": "code",
   "execution_count": 9,
   "id": "65bc48f2-744c-4b69-9768-69f709d0ef6e",
   "metadata": {},
   "outputs": [],
   "source": [
    "url = \"https://en.wikipedia.org/wiki/List_of_postal_codes_of_Canada:_M\"\n",
    "extracting_data = requests.get(url).text\n",
    "wiki_data = BeautifulSoup(extracting_data, 'lxml')"
   ]
  },
  {
   "cell_type": "code",
   "execution_count": null,
   "id": "6b75936e-ac90-4fcb-b2eb-ff1d40a1289b",
   "metadata": {},
   "outputs": [],
   "source": []
  },
  {
   "cell_type": "code",
   "execution_count": 10,
   "id": "b5bd92e7-debc-4d8e-b7e0-1fd4b3dbf329",
   "metadata": {},
   "outputs": [],
   "source": [
    "column_names = ['Postalcode','Borough','Neighborhood']\n",
    "toronto = pd.DataFrame(columns = column_names)\n",
    "\n",
    "content = wiki_data.find('div', class_='mw-parser-output')\n",
    "table = content.table.tbody\n",
    "postcode = 0\n",
    "borough = 0\n",
    "neighborhood = 0\n",
    "\n",
    "for tr in table.find_all('tr'):\n",
    "    i = 0\n",
    "    for td in tr.find_all('td'):\n",
    "        if i == 0:\n",
    "            postcode = td.text\n",
    "            i = i + 1\n",
    "        elif i == 1:\n",
    "            borough = td.text\n",
    "            i = i + 1\n",
    "        elif i == 2: \n",
    "            neighborhood = td.text.strip('\\n').replace(']','')\n",
    "    toronto = toronto.append({'Postalcode': postcode,'Borough': borough,'Neighborhood': neighborhood},ignore_index=True)\n",
    "\n"
   ]
  },
  {
   "cell_type": "code",
   "execution_count": 11,
   "id": "14d31683-3084-4b4f-a697-6d7ef4c3b77a",
   "metadata": {},
   "outputs": [],
   "source": [
    "toronto = toronto[toronto.Borough!='Not assigned']\n",
    "toronto = toronto[toronto.Borough!= 0]\n",
    "toronto.reset_index(drop = True, inplace = True)\n",
    "i = 0\n",
    "for i in range(0,toronto.shape[0]):\n",
    "    if toronto.iloc[i][2] == 'Not assigned':\n",
    "        toronto.iloc[i][2] = toronto.iloc[i][1]\n",
    "        i = i+1"
   ]
  },
  {
   "cell_type": "code",
   "execution_count": 12,
   "id": "213c005d-5cb1-4816-af7b-2089a5114c78",
   "metadata": {},
   "outputs": [
    {
     "data": {
      "text/html": [
       "<div>\n",
       "<style scoped>\n",
       "    .dataframe tbody tr th:only-of-type {\n",
       "        vertical-align: middle;\n",
       "    }\n",
       "\n",
       "    .dataframe tbody tr th {\n",
       "        vertical-align: top;\n",
       "    }\n",
       "\n",
       "    .dataframe thead th {\n",
       "        text-align: right;\n",
       "    }\n",
       "</style>\n",
       "<table border=\"1\" class=\"dataframe\">\n",
       "  <thead>\n",
       "    <tr style=\"text-align: right;\">\n",
       "      <th></th>\n",
       "      <th>Postalcode</th>\n",
       "      <th>Borough</th>\n",
       "      <th>Neighborhood</th>\n",
       "    </tr>\n",
       "  </thead>\n",
       "  <tbody>\n",
       "    <tr>\n",
       "      <th>0</th>\n",
       "      <td>\\nM1ANot assigned\\n\\n</td>\n",
       "      <td>\\nM2ANot assigned\\n\\n</td>\n",
       "      <td>M9AEtobicoke(Islington Avenue)</td>\n",
       "    </tr>\n",
       "    <tr>\n",
       "      <th>1</th>\n",
       "      <td>\\nM1BScarborough(Malvern / Rouge)\\n\\n</td>\n",
       "      <td>\\nM2BNot assigned\\n\\n</td>\n",
       "      <td>M9BEtobicoke(West Deane Park / Princess Garden...</td>\n",
       "    </tr>\n",
       "    <tr>\n",
       "      <th>2</th>\n",
       "      <td>\\nM1CScarborough(Rouge Hill / Port Union / Hig...</td>\n",
       "      <td>\\nM2CNot assigned\\n\\n</td>\n",
       "      <td>M9CEtobicoke(Eringate / Bloordale Gardens / Ol...</td>\n",
       "    </tr>\n",
       "    <tr>\n",
       "      <th>3</th>\n",
       "      <td>\\nM1EScarborough(Guildwood / Morningside / Wes...</td>\n",
       "      <td>\\nM2ENot assigned\\n\\n</td>\n",
       "      <td>M9ENot assigned</td>\n",
       "    </tr>\n",
       "    <tr>\n",
       "      <th>4</th>\n",
       "      <td>\\nM1GScarborough(Woburn)\\n\\n</td>\n",
       "      <td>\\nM2GNot assigned\\n\\n</td>\n",
       "      <td>M9GNot assigned</td>\n",
       "    </tr>\n",
       "  </tbody>\n",
       "</table>\n",
       "</div>"
      ],
      "text/plain": [
       "                                          Postalcode                Borough  \\\n",
       "0                              \\nM1ANot assigned\\n\\n  \\nM2ANot assigned\\n\\n   \n",
       "1              \\nM1BScarborough(Malvern / Rouge)\\n\\n  \\nM2BNot assigned\\n\\n   \n",
       "2  \\nM1CScarborough(Rouge Hill / Port Union / Hig...  \\nM2CNot assigned\\n\\n   \n",
       "3  \\nM1EScarborough(Guildwood / Morningside / Wes...  \\nM2ENot assigned\\n\\n   \n",
       "4                       \\nM1GScarborough(Woburn)\\n\\n  \\nM2GNot assigned\\n\\n   \n",
       "\n",
       "                                        Neighborhood  \n",
       "0                     M9AEtobicoke(Islington Avenue)  \n",
       "1  M9BEtobicoke(West Deane Park / Princess Garden...  \n",
       "2  M9CEtobicoke(Eringate / Bloordale Gardens / Ol...  \n",
       "3                                    M9ENot assigned  \n",
       "4                                    M9GNot assigned  "
      ]
     },
     "execution_count": 12,
     "metadata": {},
     "output_type": "execute_result"
    }
   ],
   "source": [
    "df = toronto.groupby(['Postalcode','Borough'])['Neighborhood'].apply(', '.join).reset_index()\n",
    "df.head()"
   ]
  },
  {
   "cell_type": "code",
   "execution_count": 13,
   "id": "4d8db3a4-4c9f-4f07-bb18-102e24d8153f",
   "metadata": {},
   "outputs": [
    {
     "data": {
      "text/html": [
       "<div>\n",
       "<style scoped>\n",
       "    .dataframe tbody tr th:only-of-type {\n",
       "        vertical-align: middle;\n",
       "    }\n",
       "\n",
       "    .dataframe tbody tr th {\n",
       "        vertical-align: top;\n",
       "    }\n",
       "\n",
       "    .dataframe thead th {\n",
       "        text-align: right;\n",
       "    }\n",
       "</style>\n",
       "<table border=\"1\" class=\"dataframe\">\n",
       "  <thead>\n",
       "    <tr style=\"text-align: right;\">\n",
       "      <th></th>\n",
       "      <th>Postalcode</th>\n",
       "      <th>Borough</th>\n",
       "      <th>Neighborhood</th>\n",
       "    </tr>\n",
       "  </thead>\n",
       "  <tbody>\n",
       "    <tr>\n",
       "      <th>count</th>\n",
       "      <td>20</td>\n",
       "      <td>20</td>\n",
       "      <td>20</td>\n",
       "    </tr>\n",
       "    <tr>\n",
       "      <th>unique</th>\n",
       "      <td>20</td>\n",
       "      <td>20</td>\n",
       "      <td>20</td>\n",
       "    </tr>\n",
       "    <tr>\n",
       "      <th>top</th>\n",
       "      <td>\\nM1GScarborough(Woburn)\\n\\n</td>\n",
       "      <td>\\nM2CNot assigned\\n\\n</td>\n",
       "      <td>M9NYork(Weston)</td>\n",
       "    </tr>\n",
       "    <tr>\n",
       "      <th>freq</th>\n",
       "      <td>1</td>\n",
       "      <td>1</td>\n",
       "      <td>1</td>\n",
       "    </tr>\n",
       "  </tbody>\n",
       "</table>\n",
       "</div>"
      ],
      "text/plain": [
       "                          Postalcode                Borough     Neighborhood\n",
       "count                             20                     20               20\n",
       "unique                            20                     20               20\n",
       "top     \\nM1GScarborough(Woburn)\\n\\n  \\nM2CNot assigned\\n\\n  M9NYork(Weston)\n",
       "freq                               1                      1                1"
      ]
     },
     "execution_count": 13,
     "metadata": {},
     "output_type": "execute_result"
    }
   ],
   "source": [
    "df.describe()"
   ]
  },
  {
   "cell_type": "code",
   "execution_count": 14,
   "id": "f559ddf6-3566-483f-b46b-b372ec0c2a7e",
   "metadata": {},
   "outputs": [],
   "source": [
    "df = df.dropna()\n",
    "empty = 'Not assigned'\n",
    "df = df[(df.Postalcode != empty ) & (df.Borough != empty) & (df.Neighborhood != empty)]"
   ]
  },
  {
   "cell_type": "code",
   "execution_count": 15,
   "id": "5a9f19d8-36c1-4028-85b7-ab1e3dacd922",
   "metadata": {},
   "outputs": [
    {
     "data": {
      "text/html": [
       "<div>\n",
       "<style scoped>\n",
       "    .dataframe tbody tr th:only-of-type {\n",
       "        vertical-align: middle;\n",
       "    }\n",
       "\n",
       "    .dataframe tbody tr th {\n",
       "        vertical-align: top;\n",
       "    }\n",
       "\n",
       "    .dataframe thead th {\n",
       "        text-align: right;\n",
       "    }\n",
       "</style>\n",
       "<table border=\"1\" class=\"dataframe\">\n",
       "  <thead>\n",
       "    <tr style=\"text-align: right;\">\n",
       "      <th></th>\n",
       "      <th>Postalcode</th>\n",
       "      <th>Borough</th>\n",
       "      <th>Neighborhood</th>\n",
       "    </tr>\n",
       "  </thead>\n",
       "  <tbody>\n",
       "    <tr>\n",
       "      <th>0</th>\n",
       "      <td>\\nM1ANot assigned\\n\\n</td>\n",
       "      <td>\\nM2ANot assigned\\n\\n</td>\n",
       "      <td>M9AEtobicoke(Islington Avenue)</td>\n",
       "    </tr>\n",
       "    <tr>\n",
       "      <th>1</th>\n",
       "      <td>\\nM1BScarborough(Malvern / Rouge)\\n\\n</td>\n",
       "      <td>\\nM2BNot assigned\\n\\n</td>\n",
       "      <td>M9BEtobicoke(West Deane Park / Princess Garden...</td>\n",
       "    </tr>\n",
       "    <tr>\n",
       "      <th>2</th>\n",
       "      <td>\\nM1CScarborough(Rouge Hill / Port Union / Hig...</td>\n",
       "      <td>\\nM2CNot assigned\\n\\n</td>\n",
       "      <td>M9CEtobicoke(Eringate / Bloordale Gardens / Ol...</td>\n",
       "    </tr>\n",
       "    <tr>\n",
       "      <th>3</th>\n",
       "      <td>\\nM1EScarborough(Guildwood / Morningside / Wes...</td>\n",
       "      <td>\\nM2ENot assigned\\n\\n</td>\n",
       "      <td>M9ENot assigned</td>\n",
       "    </tr>\n",
       "    <tr>\n",
       "      <th>4</th>\n",
       "      <td>\\nM1GScarborough(Woburn)\\n\\n</td>\n",
       "      <td>\\nM2GNot assigned\\n\\n</td>\n",
       "      <td>M9GNot assigned</td>\n",
       "    </tr>\n",
       "  </tbody>\n",
       "</table>\n",
       "</div>"
      ],
      "text/plain": [
       "                                          Postalcode                Borough  \\\n",
       "0                              \\nM1ANot assigned\\n\\n  \\nM2ANot assigned\\n\\n   \n",
       "1              \\nM1BScarborough(Malvern / Rouge)\\n\\n  \\nM2BNot assigned\\n\\n   \n",
       "2  \\nM1CScarborough(Rouge Hill / Port Union / Hig...  \\nM2CNot assigned\\n\\n   \n",
       "3  \\nM1EScarborough(Guildwood / Morningside / Wes...  \\nM2ENot assigned\\n\\n   \n",
       "4                       \\nM1GScarborough(Woburn)\\n\\n  \\nM2GNot assigned\\n\\n   \n",
       "\n",
       "                                        Neighborhood  \n",
       "0                     M9AEtobicoke(Islington Avenue)  \n",
       "1  M9BEtobicoke(West Deane Park / Princess Garden...  \n",
       "2  M9CEtobicoke(Eringate / Bloordale Gardens / Ol...  \n",
       "3                                    M9ENot assigned  \n",
       "4                                    M9GNot assigned  "
      ]
     },
     "execution_count": 15,
     "metadata": {},
     "output_type": "execute_result"
    }
   ],
   "source": [
    "df.head()"
   ]
  },
  {
   "cell_type": "code",
   "execution_count": 16,
   "id": "3020d568-b51c-4aee-87ea-a54fce178658",
   "metadata": {},
   "outputs": [],
   "source": [
    "def neighborhood_list(grouped):    \n",
    "    return ', '.join(sorted(grouped['Neighborhood'].tolist()))\n",
    "                    \n",
    "grp = df.groupby(['Postalcode', 'Borough'])\n",
    "df_2 = grp.apply(neighborhood_list).reset_index(name='Neighborhood')"
   ]
  },
  {
   "cell_type": "code",
   "execution_count": 17,
   "id": "eacc66ff-cfeb-489c-b55b-6dd249f390a0",
   "metadata": {},
   "outputs": [
    {
     "name": "stdout",
     "output_type": "stream",
     "text": [
      "(20, 3)\n"
     ]
    },
    {
     "data": {
      "text/html": [
       "<div>\n",
       "<style scoped>\n",
       "    .dataframe tbody tr th:only-of-type {\n",
       "        vertical-align: middle;\n",
       "    }\n",
       "\n",
       "    .dataframe tbody tr th {\n",
       "        vertical-align: top;\n",
       "    }\n",
       "\n",
       "    .dataframe thead th {\n",
       "        text-align: right;\n",
       "    }\n",
       "</style>\n",
       "<table border=\"1\" class=\"dataframe\">\n",
       "  <thead>\n",
       "    <tr style=\"text-align: right;\">\n",
       "      <th></th>\n",
       "      <th>Postalcode</th>\n",
       "      <th>Borough</th>\n",
       "      <th>Neighborhood</th>\n",
       "    </tr>\n",
       "  </thead>\n",
       "  <tbody>\n",
       "    <tr>\n",
       "      <th>0</th>\n",
       "      <td>\\nM1ANot assigned\\n\\n</td>\n",
       "      <td>\\nM2ANot assigned\\n\\n</td>\n",
       "      <td>M9AEtobicoke(Islington Avenue)</td>\n",
       "    </tr>\n",
       "    <tr>\n",
       "      <th>1</th>\n",
       "      <td>\\nM1BScarborough(Malvern / Rouge)\\n\\n</td>\n",
       "      <td>\\nM2BNot assigned\\n\\n</td>\n",
       "      <td>M9BEtobicoke(West Deane Park / Princess Garden...</td>\n",
       "    </tr>\n",
       "    <tr>\n",
       "      <th>2</th>\n",
       "      <td>\\nM1CScarborough(Rouge Hill / Port Union / Hig...</td>\n",
       "      <td>\\nM2CNot assigned\\n\\n</td>\n",
       "      <td>M9CEtobicoke(Eringate / Bloordale Gardens / Ol...</td>\n",
       "    </tr>\n",
       "    <tr>\n",
       "      <th>3</th>\n",
       "      <td>\\nM1EScarborough(Guildwood / Morningside / Wes...</td>\n",
       "      <td>\\nM2ENot assigned\\n\\n</td>\n",
       "      <td>M9ENot assigned</td>\n",
       "    </tr>\n",
       "    <tr>\n",
       "      <th>4</th>\n",
       "      <td>\\nM1GScarborough(Woburn)\\n\\n</td>\n",
       "      <td>\\nM2GNot assigned\\n\\n</td>\n",
       "      <td>M9GNot assigned</td>\n",
       "    </tr>\n",
       "  </tbody>\n",
       "</table>\n",
       "</div>"
      ],
      "text/plain": [
       "                                          Postalcode                Borough  \\\n",
       "0                              \\nM1ANot assigned\\n\\n  \\nM2ANot assigned\\n\\n   \n",
       "1              \\nM1BScarborough(Malvern / Rouge)\\n\\n  \\nM2BNot assigned\\n\\n   \n",
       "2  \\nM1CScarborough(Rouge Hill / Port Union / Hig...  \\nM2CNot assigned\\n\\n   \n",
       "3  \\nM1EScarborough(Guildwood / Morningside / Wes...  \\nM2ENot assigned\\n\\n   \n",
       "4                       \\nM1GScarborough(Woburn)\\n\\n  \\nM2GNot assigned\\n\\n   \n",
       "\n",
       "                                        Neighborhood  \n",
       "0                     M9AEtobicoke(Islington Avenue)  \n",
       "1  M9BEtobicoke(West Deane Park / Princess Garden...  \n",
       "2  M9CEtobicoke(Eringate / Bloordale Gardens / Ol...  \n",
       "3                                    M9ENot assigned  \n",
       "4                                    M9GNot assigned  "
      ]
     },
     "execution_count": 17,
     "metadata": {},
     "output_type": "execute_result"
    }
   ],
   "source": [
    "print(df_2.shape)\n",
    "df_2.head()"
   ]
  },
  {
   "cell_type": "code",
   "execution_count": 19,
   "id": "a1336ace-e570-4798-8138-fbb5726d3483",
   "metadata": {},
   "outputs": [
    {
     "data": {
      "text/plain": [
       "[43.709020000000066, -79.36348999999996]"
      ]
     },
     "execution_count": 19,
     "metadata": {},
     "output_type": "execute_result"
    }
   ],
   "source": [
    "def get_latilong(postal_code):\n",
    "    lati_long_coords = None\n",
    "    while(lati_long_coords is None):\n",
    "        g = geocoder.arcgis('{}, Toronto, Ontario'.format(postal_code))\n",
    "        lati_long_coords = g.latlng\n",
    "    return lati_long_coords\n",
    "    \n",
    "get_latilong('M4G')"
   ]
  },
  {
   "cell_type": "code",
   "execution_count": 20,
   "id": "e8dffe25-0bf2-4302-869c-2f7d975e7747",
   "metadata": {},
   "outputs": [],
   "source": [
    "postal_codes = df_2['Postalcode']    \n",
    "coords = [ get_latilong(postal_code) for postal_code in postal_codes.tolist() ]"
   ]
  },
  {
   "cell_type": "code",
   "execution_count": 21,
   "id": "0860c037-ffa3-4456-b79f-076f59079e1a",
   "metadata": {},
   "outputs": [],
   "source": [
    "df_coords = pd.DataFrame(coords, columns=['Latitude', 'Longitude'])\n",
    "df_2['Latitude'] = df_coords['Latitude']\n",
    "df_2['Longitude'] = df_coords['Longitude']"
   ]
  },
  {
   "cell_type": "code",
   "execution_count": 22,
   "id": "15607a3b-d4c9-47f1-8cb0-73f25694666a",
   "metadata": {},
   "outputs": [
    {
     "data": {
      "text/html": [
       "<div>\n",
       "<style scoped>\n",
       "    .dataframe tbody tr th:only-of-type {\n",
       "        vertical-align: middle;\n",
       "    }\n",
       "\n",
       "    .dataframe tbody tr th {\n",
       "        vertical-align: top;\n",
       "    }\n",
       "\n",
       "    .dataframe thead th {\n",
       "        text-align: right;\n",
       "    }\n",
       "</style>\n",
       "<table border=\"1\" class=\"dataframe\">\n",
       "  <thead>\n",
       "    <tr style=\"text-align: right;\">\n",
       "      <th></th>\n",
       "      <th>Postalcode</th>\n",
       "      <th>Borough</th>\n",
       "      <th>Neighborhood</th>\n",
       "      <th>Latitude</th>\n",
       "      <th>Longitude</th>\n",
       "    </tr>\n",
       "  </thead>\n",
       "  <tbody>\n",
       "  </tbody>\n",
       "</table>\n",
       "</div>"
      ],
      "text/plain": [
       "Empty DataFrame\n",
       "Columns: [Postalcode, Borough, Neighborhood, Latitude, Longitude]\n",
       "Index: []"
      ]
     },
     "execution_count": 22,
     "metadata": {},
     "output_type": "execute_result"
    }
   ],
   "source": [
    "df_2[df_2.Postalcode == 'M5G']"
   ]
  },
  {
   "cell_type": "code",
   "execution_count": 23,
   "id": "4bbf1b2a-63a5-4f98-a45e-ee8c46bd7501",
   "metadata": {},
   "outputs": [
    {
     "data": {
      "text/html": [
       "<div>\n",
       "<style scoped>\n",
       "    .dataframe tbody tr th:only-of-type {\n",
       "        vertical-align: middle;\n",
       "    }\n",
       "\n",
       "    .dataframe tbody tr th {\n",
       "        vertical-align: top;\n",
       "    }\n",
       "\n",
       "    .dataframe thead th {\n",
       "        text-align: right;\n",
       "    }\n",
       "</style>\n",
       "<table border=\"1\" class=\"dataframe\">\n",
       "  <thead>\n",
       "    <tr style=\"text-align: right;\">\n",
       "      <th></th>\n",
       "      <th>Postalcode</th>\n",
       "      <th>Borough</th>\n",
       "      <th>Neighborhood</th>\n",
       "      <th>Latitude</th>\n",
       "      <th>Longitude</th>\n",
       "    </tr>\n",
       "  </thead>\n",
       "  <tbody>\n",
       "    <tr>\n",
       "      <th>0</th>\n",
       "      <td>\\nM1ANot assigned\\n\\n</td>\n",
       "      <td>\\nM2ANot assigned\\n\\n</td>\n",
       "      <td>M9AEtobicoke(Islington Avenue)</td>\n",
       "      <td>43.648690</td>\n",
       "      <td>-79.385440</td>\n",
       "    </tr>\n",
       "    <tr>\n",
       "      <th>1</th>\n",
       "      <td>\\nM1BScarborough(Malvern / Rouge)\\n\\n</td>\n",
       "      <td>\\nM2BNot assigned\\n\\n</td>\n",
       "      <td>M9BEtobicoke(West Deane Park / Princess Garden...</td>\n",
       "      <td>43.810230</td>\n",
       "      <td>-79.220380</td>\n",
       "    </tr>\n",
       "    <tr>\n",
       "      <th>2</th>\n",
       "      <td>\\nM1CScarborough(Rouge Hill / Port Union / Hig...</td>\n",
       "      <td>\\nM2CNot assigned\\n\\n</td>\n",
       "      <td>M9CEtobicoke(Eringate / Bloordale Gardens / Ol...</td>\n",
       "      <td>43.789480</td>\n",
       "      <td>-79.176140</td>\n",
       "    </tr>\n",
       "    <tr>\n",
       "      <th>3</th>\n",
       "      <td>\\nM1EScarborough(Guildwood / Morningside / Wes...</td>\n",
       "      <td>\\nM2ENot assigned\\n\\n</td>\n",
       "      <td>M9ENot assigned</td>\n",
       "      <td>43.763430</td>\n",
       "      <td>-79.178200</td>\n",
       "    </tr>\n",
       "    <tr>\n",
       "      <th>4</th>\n",
       "      <td>\\nM1GScarborough(Woburn)\\n\\n</td>\n",
       "      <td>\\nM2GNot assigned\\n\\n</td>\n",
       "      <td>M9GNot assigned</td>\n",
       "      <td>43.767480</td>\n",
       "      <td>-79.228290</td>\n",
       "    </tr>\n",
       "    <tr>\n",
       "      <th>5</th>\n",
       "      <td>\\nM1HScarborough(Cedarbrae)\\n\\n</td>\n",
       "      <td>\\nM2HNorth York(Hillcrest Village)\\n\\n</td>\n",
       "      <td>M9HNot assigned</td>\n",
       "      <td>43.741672</td>\n",
       "      <td>-79.232538</td>\n",
       "    </tr>\n",
       "    <tr>\n",
       "      <th>6</th>\n",
       "      <td>\\nM1JScarborough(Scarborough Village)\\n\\n</td>\n",
       "      <td>\\nM2JNorth York(Fairview / Henry Farm / Oriole...</td>\n",
       "      <td>M9JNot assigned</td>\n",
       "      <td>43.738650</td>\n",
       "      <td>-79.216990</td>\n",
       "    </tr>\n",
       "    <tr>\n",
       "      <th>7</th>\n",
       "      <td>\\nM1KScarborough(Kennedy Park / Ionview / East...</td>\n",
       "      <td>\\nM2KNorth York(Bayview Village)\\n\\n</td>\n",
       "      <td>M9KNot assigned</td>\n",
       "      <td>43.648690</td>\n",
       "      <td>-79.385440</td>\n",
       "    </tr>\n",
       "    <tr>\n",
       "      <th>8</th>\n",
       "      <td>\\nM1LScarborough(Golden Mile / Clairlea / Oakr...</td>\n",
       "      <td>\\nM2LNorth York(York Mills / Silver Hills)\\n\\n</td>\n",
       "      <td>M9LNorth York(Humber Summit)</td>\n",
       "      <td>43.698830</td>\n",
       "      <td>-79.279120</td>\n",
       "    </tr>\n",
       "    <tr>\n",
       "      <th>9</th>\n",
       "      <td>\\nM1MScarborough(Cliffside / Cliffcrest / Scar...</td>\n",
       "      <td>\\nM2MNorth York(Willowdale / Newtonbrook)\\n\\n</td>\n",
       "      <td>M9MNorth York(Humberlea / Emery)</td>\n",
       "      <td>43.726420</td>\n",
       "      <td>-79.232970</td>\n",
       "    </tr>\n",
       "  </tbody>\n",
       "</table>\n",
       "</div>"
      ],
      "text/plain": [
       "                                          Postalcode  \\\n",
       "0                              \\nM1ANot assigned\\n\\n   \n",
       "1              \\nM1BScarborough(Malvern / Rouge)\\n\\n   \n",
       "2  \\nM1CScarborough(Rouge Hill / Port Union / Hig...   \n",
       "3  \\nM1EScarborough(Guildwood / Morningside / Wes...   \n",
       "4                       \\nM1GScarborough(Woburn)\\n\\n   \n",
       "5                    \\nM1HScarborough(Cedarbrae)\\n\\n   \n",
       "6          \\nM1JScarborough(Scarborough Village)\\n\\n   \n",
       "7  \\nM1KScarborough(Kennedy Park / Ionview / East...   \n",
       "8  \\nM1LScarborough(Golden Mile / Clairlea / Oakr...   \n",
       "9  \\nM1MScarborough(Cliffside / Cliffcrest / Scar...   \n",
       "\n",
       "                                             Borough  \\\n",
       "0                              \\nM2ANot assigned\\n\\n   \n",
       "1                              \\nM2BNot assigned\\n\\n   \n",
       "2                              \\nM2CNot assigned\\n\\n   \n",
       "3                              \\nM2ENot assigned\\n\\n   \n",
       "4                              \\nM2GNot assigned\\n\\n   \n",
       "5             \\nM2HNorth York(Hillcrest Village)\\n\\n   \n",
       "6  \\nM2JNorth York(Fairview / Henry Farm / Oriole...   \n",
       "7               \\nM2KNorth York(Bayview Village)\\n\\n   \n",
       "8     \\nM2LNorth York(York Mills / Silver Hills)\\n\\n   \n",
       "9      \\nM2MNorth York(Willowdale / Newtonbrook)\\n\\n   \n",
       "\n",
       "                                        Neighborhood   Latitude  Longitude  \n",
       "0                     M9AEtobicoke(Islington Avenue)  43.648690 -79.385440  \n",
       "1  M9BEtobicoke(West Deane Park / Princess Garden...  43.810230 -79.220380  \n",
       "2  M9CEtobicoke(Eringate / Bloordale Gardens / Ol...  43.789480 -79.176140  \n",
       "3                                    M9ENot assigned  43.763430 -79.178200  \n",
       "4                                    M9GNot assigned  43.767480 -79.228290  \n",
       "5                                    M9HNot assigned  43.741672 -79.232538  \n",
       "6                                    M9JNot assigned  43.738650 -79.216990  \n",
       "7                                    M9KNot assigned  43.648690 -79.385440  \n",
       "8                       M9LNorth York(Humber Summit)  43.698830 -79.279120  \n",
       "9                   M9MNorth York(Humberlea / Emery)  43.726420 -79.232970  "
      ]
     },
     "execution_count": 23,
     "metadata": {},
     "output_type": "execute_result"
    }
   ],
   "source": [
    "df_2.head(10)"
   ]
  },
  {
   "cell_type": "code",
   "execution_count": 24,
   "id": "884e6da0-feb1-467e-ac4b-8a1b739d3403",
   "metadata": {},
   "outputs": [
    {
     "ename": "ConfigurationError",
     "evalue": "Using Nominatim with default or sample `user_agent` \"geopy/2.1.0\" is strongly discouraged, as it violates Nominatim's ToS https://operations.osmfoundation.org/policies/nominatim/ and may possibly cause 403 and 429 HTTP errors. Please specify a custom `user_agent` with `Nominatim(user_agent=\"my-application\")` or by overriding the default `user_agent`: `geopy.geocoders.options.default_user_agent = \"my-application\"`.",
     "output_type": "error",
     "traceback": [
      "\u001b[0;31m---------------------------------------------------------------------------\u001b[0m",
      "\u001b[0;31mConfigurationError\u001b[0m                        Traceback (most recent call last)",
      "\u001b[0;32m<ipython-input-24-320fd14facff>\u001b[0m in \u001b[0;36m<module>\u001b[0;34m\u001b[0m\n\u001b[1;32m      1\u001b[0m \u001b[0maddress\u001b[0m \u001b[0;34m=\u001b[0m \u001b[0;34m'Scarborough,Toronto'\u001b[0m\u001b[0;34m\u001b[0m\u001b[0;34m\u001b[0m\u001b[0m\n\u001b[1;32m      2\u001b[0m \u001b[0;34m\u001b[0m\u001b[0m\n\u001b[0;32m----> 3\u001b[0;31m \u001b[0mgeolocator\u001b[0m \u001b[0;34m=\u001b[0m \u001b[0mNominatim\u001b[0m\u001b[0;34m(\u001b[0m\u001b[0;34m)\u001b[0m\u001b[0;34m\u001b[0m\u001b[0;34m\u001b[0m\u001b[0m\n\u001b[0m\u001b[1;32m      4\u001b[0m \u001b[0mlocation\u001b[0m \u001b[0;34m=\u001b[0m \u001b[0mgeolocator\u001b[0m\u001b[0;34m.\u001b[0m\u001b[0mgeocode\u001b[0m\u001b[0;34m(\u001b[0m\u001b[0maddress\u001b[0m\u001b[0;34m)\u001b[0m\u001b[0;34m\u001b[0m\u001b[0;34m\u001b[0m\u001b[0m\n\u001b[1;32m      5\u001b[0m \u001b[0mlatitude_x\u001b[0m \u001b[0;34m=\u001b[0m \u001b[0mlocation\u001b[0m\u001b[0;34m.\u001b[0m\u001b[0mlatitude\u001b[0m\u001b[0;34m\u001b[0m\u001b[0;34m\u001b[0m\u001b[0m\n",
      "\u001b[0;32m~/conda/envs/python/lib/python3.6/site-packages/geopy/geocoders/nominatim.py\u001b[0m in \u001b[0;36m__init__\u001b[0;34m(self, timeout, proxies, domain, scheme, user_agent, ssl_context, adapter_factory)\u001b[0m\n\u001b[1;32m    112\u001b[0m                 \u001b[0;34m'overriding the default `user_agent`: '\u001b[0m\u001b[0;34m\u001b[0m\u001b[0;34m\u001b[0m\u001b[0m\n\u001b[1;32m    113\u001b[0m                 \u001b[0;34m'`geopy.geocoders.options.default_user_agent = \"my-application\"`.'\u001b[0m\u001b[0;34m\u001b[0m\u001b[0;34m\u001b[0m\u001b[0m\n\u001b[0;32m--> 114\u001b[0;31m                 \u001b[0;34m%\u001b[0m \u001b[0mself\u001b[0m\u001b[0;34m.\u001b[0m\u001b[0mheaders\u001b[0m\u001b[0;34m[\u001b[0m\u001b[0;34m'User-Agent'\u001b[0m\u001b[0;34m]\u001b[0m\u001b[0;34m\u001b[0m\u001b[0;34m\u001b[0m\u001b[0m\n\u001b[0m\u001b[1;32m    115\u001b[0m             )\n\u001b[1;32m    116\u001b[0m \u001b[0;34m\u001b[0m\u001b[0m\n",
      "\u001b[0;31mConfigurationError\u001b[0m: Using Nominatim with default or sample `user_agent` \"geopy/2.1.0\" is strongly discouraged, as it violates Nominatim's ToS https://operations.osmfoundation.org/policies/nominatim/ and may possibly cause 403 and 429 HTTP errors. Please specify a custom `user_agent` with `Nominatim(user_agent=\"my-application\")` or by overriding the default `user_agent`: `geopy.geocoders.options.default_user_agent = \"my-application\"`."
     ]
    }
   ],
   "source": [
    "address = 'Scarborough,Toronto'\n",
    "\n",
    "geolocator = Nominatim()\n",
    "location = geolocator.geocode(address)\n",
    "latitude_x = location.latitude\n",
    "longitude_y = location.longitude\n",
    "print('The Geograpical Co-ordinate of Seattle,Washington are {}, {}.'.format(latitude_x, longitude_y))"
   ]
  },
  {
   "cell_type": "code",
   "execution_count": null,
   "id": "8ce3e389-ba36-4854-a848-0c3e404b0269",
   "metadata": {},
   "outputs": [],
   "source": []
  },
  {
   "cell_type": "code",
   "execution_count": null,
   "id": "9e1131db-7931-44e9-9789-60519d67d6dc",
   "metadata": {},
   "outputs": [],
   "source": []
  }
 ],
 "metadata": {
  "kernelspec": {
   "display_name": "Python",
   "language": "python",
   "name": "conda-env-python-py"
  },
  "language_info": {
   "codemirror_mode": {
    "name": "ipython",
    "version": 3
   },
   "file_extension": ".py",
   "mimetype": "text/x-python",
   "name": "python",
   "nbconvert_exporter": "python",
   "pygments_lexer": "ipython3",
   "version": "3.6.13"
  }
 },
 "nbformat": 4,
 "nbformat_minor": 5
}
